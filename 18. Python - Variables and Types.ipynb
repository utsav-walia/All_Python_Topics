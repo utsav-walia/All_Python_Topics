{
 "cells": [
  {
   "cell_type": "code",
   "execution_count": null,
   "metadata": {
    "collapsed": true
   },
   "outputs": [],
   "source": [
    "# Intro to Python Programming\n",
    "\n",
    "#Variables and Types"
   ]
  },
  {
   "cell_type": "markdown",
   "metadata": {},
   "source": [
    "# Setup"
   ]
  },
  {
   "cell_type": "markdown",
   "metadata": {},
   "source": [
    "First, let's make sure this notebook works well in both python 2 and 3, import a few common modules, ensure MatplotLib plots figures inline and prepare a function to save the figures:"
   ]
  },
  {
   "cell_type": "code",
   "execution_count": null,
   "metadata": {
    "collapsed": true
   },
   "outputs": [],
   "source": [
    "# To support both python 2 and python 3\n",
    "from __future__ import division, print_function, unicode_literals\n",
    "\n",
    "# Common imports\n",
    "#import numpy as np\n",
    "#import os\n",
    "\n",
    "# to make this notebook's output stable across runs\n",
    "def reset_graph(seed=42):\n",
    "    tf.reset_default_graph()\n",
    "    tf.set_random_seed(seed)\n",
    "    np.random.seed(seed)"
   ]
  },
  {
   "cell_type": "markdown",
   "metadata": {},
   "source": [
    "# Basics of Python"
   ]
  },
  {
   "cell_type": "code",
   "execution_count": null,
   "metadata": {
    "collapsed": true
   },
   "outputs": [],
   "source": [
    "#Numbers"
   ]
  },
  {
   "cell_type": "code",
   "execution_count": 3,
   "metadata": {},
   "outputs": [
    {
     "name": "stdout",
     "output_type": "stream",
     "text": [
      "7\n",
      "7.0\n",
      "8.0\n"
     ]
    }
   ],
   "source": [
    "#integer\n",
    "myint = 7\n",
    "print(myint)\n",
    "\n",
    "#floating point number\n",
    "myfloat = 7.0\n",
    "print(myfloat)\n",
    "#typecast the integer 8 to a float datatype\n",
    "myfloat = float(8)\n",
    "print(myfloat)\n",
    "\n",
    "#myfloat = 80.7\n",
    "#print(myfloat)"
   ]
  },
  {
   "cell_type": "code",
   "execution_count": null,
   "metadata": {
    "collapsed": true
   },
   "outputs": [],
   "source": []
  },
  {
   "cell_type": "code",
   "execution_count": 6,
   "metadata": {},
   "outputs": [
    {
     "name": "stdout",
     "output_type": "stream",
     "text": [
      "15.0\n",
      "0.875\n",
      "-1.0\n",
      "56.0\n"
     ]
    }
   ],
   "source": [
    "#adding integer and float data types - this is a VALID operation\n",
    "x = myint + myfloat\n",
    "print(x)\n",
    "\n",
    "print(myint/myfloat)\n",
    "\n",
    "print(myint-myfloat)\n",
    "\n",
    "print(myint*myfloat)"
   ]
  },
  {
   "cell_type": "code",
   "execution_count": null,
   "metadata": {
    "collapsed": true
   },
   "outputs": [],
   "source": [
    "#Strings"
   ]
  },
  {
   "cell_type": "code",
   "execution_count": 9,
   "metadata": {},
   "outputs": [
    {
     "name": "stdout",
     "output_type": "stream",
     "text": [
      "hello\n",
      "hello\n",
      "Don't worry about apostrophes as long as you put it within double quotes\n"
     ]
    }
   ],
   "source": [
    "mystring = 'hello'\n",
    "print(mystring)\n",
    "mystring = \"hello\"\n",
    "print(mystring)\n",
    "\n",
    "mystring = \"Don't worry about apostrophes as long as you put it within double quotes\"\n",
    "print(mystring)"
   ]
  },
  {
   "cell_type": "code",
   "execution_count": 16,
   "metadata": {},
   "outputs": [
    {
     "name": "stdout",
     "output_type": "stream",
     "text": [
      "7\n",
      "hello world 1\n"
     ]
    }
   ],
   "source": [
    "#operators on strings\n",
    "one = 2\n",
    "two = 5\n",
    "three = one + two\n",
    "print(three)\n",
    "\n",
    "hello = \"hello\"\n",
    "world = \"world \"\n",
    "space = \" \"\n",
    "#hello there world 1\n",
    "#you cannot add integers or floats to strings\n",
    "helloworld = hello + \" \" + world + \"1\"\n",
    "print(helloworld)\n",
    "\n",
    "# 1 is a number but \"1\" is a string"
   ]
  },
  {
   "cell_type": "code",
   "execution_count": 9,
   "metadata": {},
   "outputs": [
    {
     "name": "stdout",
     "output_type": "stream",
     "text": [
      "465\n",
      "464 1\n"
     ]
    }
   ],
   "source": [
    "print(464 + 1)\n",
    "print(\"464\" + \" \" + \"1\")"
   ]
  },
  {
   "cell_type": "code",
   "execution_count": 14,
   "metadata": {},
   "outputs": [
    {
     "name": "stdout",
     "output_type": "stream",
     "text": [
      "3 4 someString 555.44\n",
      "555.44\n",
      "someString\n",
      "7\n"
     ]
    }
   ],
   "source": [
    "#assignments\n",
    "a, b, c, d = 3, 4, \"someString\", 555.44\n",
    "\n",
    "print(a, b, c, d)\n",
    "\n",
    "\n",
    "print(d)\n",
    "\n",
    "print(c)\n",
    "\n",
    "a+b\n",
    "print(a+b)"
   ]
  },
  {
   "cell_type": "code",
   "execution_count": 42,
   "metadata": {},
   "outputs": [
    {
     "name": "stdout",
     "output_type": "stream",
     "text": [
      "1 2 str\n",
      "8.1\n"
     ]
    }
   ],
   "source": [
    "# This will not work! Cannot mix numbers and strings within operators\n",
    "one = \"1\"\n",
    "two = \"2\"\n",
    "hello = \"str\"\n",
    "\n",
    "print(one + \" \" + two + \" \" + hello)\n",
    "\n",
    "print(5 + 3.1)"
   ]
  },
  {
   "cell_type": "code",
   "execution_count": 35,
   "metadata": {},
   "outputs": [
    {
     "name": "stdout",
     "output_type": "stream",
     "text": [
      "My name is Vivek Singhal\n",
      "My name is Vivek Singhal and my age is 29.5\n"
     ]
    }
   ],
   "source": [
    "firstname = \"Vivek\"\n",
    "secondname = \"Singhal\"\n",
    "age = 29.5\n",
    "\n",
    "print(\"My name is %s %s\" %(firstname, secondname))\n",
    "\n",
    "print(\"My name is %s %s and my age is %0.1f\" %(firstname, secondname, age))"
   ]
  },
  {
   "cell_type": "code",
   "execution_count": null,
   "metadata": {
    "collapsed": true
   },
   "outputs": [],
   "source": []
  },
  {
   "cell_type": "code",
   "execution_count": 50,
   "metadata": {},
   "outputs": [
    {
     "name": "stdout",
     "output_type": "stream",
     "text": [
      "String: hello 10.000000 20 \n",
      "Float: 10.000000\n",
      "Integer: 20\n"
     ]
    }
   ],
   "source": [
    "# Exercise\n",
    "# change this code\n",
    "#The target of this exercise is to create a string, an integer, and a floating point number.\n",
    "#The string should be named mystring and should contain the word \"hello\".\n",
    "#The floating point number should be named myfloat and should contain the number 10.0,\n",
    "#and the integer should be named myint and should contain the number 20.\n",
    "#10->10.0\n",
    "\n",
    "mystring = \"hello\"\n",
    "myfloat = 10.0\n",
    "myint = 20\n",
    "\n",
    "# testing code\n",
    "if mystring == \"hello\":\n",
    "    print(\"String: %s %f %d \" % (mystring, myfloat, myint))\n",
    "\n",
    "#isinstance checks if myfloat is having a float value in it\n",
    "if isinstance(myfloat, float) and myfloat == 10.0:\n",
    "    print(\"Float: %f\" % myfloat)\n",
    "#if myfloat == 10.0:\n",
    "#    print(myfloat)\n",
    "#    print(\"Float: %d\" % myfloat)\n",
    "if isinstance(myint, int) and myint == 20:\n",
    "    print(\"Integer: %d\" % myint)"
   ]
  },
  {
   "cell_type": "code",
   "execution_count": null,
   "metadata": {
    "collapsed": true
   },
   "outputs": [],
   "source": []
  }
 ],
 "metadata": {
  "kernelspec": {
   "display_name": "Python 3",
   "language": "python",
   "name": "python3"
  },
  "language_info": {
   "codemirror_mode": {
    "name": "ipython",
    "version": 3
   },
   "file_extension": ".py",
   "mimetype": "text/x-python",
   "name": "python",
   "nbconvert_exporter": "python",
   "pygments_lexer": "ipython3",
   "version": "3.5.2"
  },
  "nav_menu": {
   "height": "264px",
   "width": "369px"
  },
  "toc": {
   "navigate_menu": true,
   "number_sections": true,
   "sideBar": true,
   "threshold": 6,
   "toc_cell": false,
   "toc_section_display": "block",
   "toc_window_display": false
  }
 },
 "nbformat": 4,
 "nbformat_minor": 1
}
