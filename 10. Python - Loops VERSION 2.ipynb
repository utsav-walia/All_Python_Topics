{
 "cells": [
  {
   "cell_type": "code",
   "execution_count": null,
   "metadata": {},
   "outputs": [],
   "source": [
    "# Intro to Python Programming\n",
    "\n",
    "#Loops"
   ]
  },
  {
   "cell_type": "markdown",
   "metadata": {},
   "source": [
    "# Setup"
   ]
  },
  {
   "cell_type": "markdown",
   "metadata": {},
   "source": [
    "First, let's make sure this notebook works well in both python 2 and 3, import a few common modules, ensure MatplotLib plots figures inline and prepare a function to save the figures:"
   ]
  },
  {
   "cell_type": "code",
   "execution_count": null,
   "metadata": {},
   "outputs": [],
   "source": [
    "# To support both python 2 and python 3\n",
    "from __future__ import division, print_function, unicode_literals\n",
    "\n",
    "# Common imports\n",
    "import numpy as np\n",
    "import os\n",
    "\n",
    "# to make this notebook's output stable across runs\n",
    "def reset_graph(seed=42):\n",
    "    tf.reset_default_graph()\n",
    "    tf.set_random_seed(seed)\n",
    "    np.random.seed(seed)"
   ]
  },
  {
   "cell_type": "markdown",
   "metadata": {},
   "source": [
    "# Basics of Python"
   ]
  },
  {
   "cell_type": "code",
   "execution_count": null,
   "metadata": {},
   "outputs": [],
   "source": [
    "#Python Loops - \n",
    "\n",
    "#Python has two primitive loop commands:\n",
    "#    • for loops\n",
    "#    • while loops"
   ]
  },
  {
   "cell_type": "code",
   "execution_count": null,
   "metadata": {},
   "outputs": [],
   "source": [
    "#loop through list\n",
    "\n",
    "primes = [2, 3, 5, 7]  \n",
    "for p in primes:\n",
    "    print(p) "
   ]
  },
  {
   "cell_type": "code",
   "execution_count": null,
   "metadata": {},
   "outputs": [],
   "source": [
    "fruits = [\"apple\", \"banana\", \"cherry\"] \n",
    "for x in fruits:\n",
    "    print(x)"
   ]
  },
  {
   "cell_type": "code",
   "execution_count": null,
   "metadata": {},
   "outputs": [],
   "source": [
    "#Loop through string:\n",
    "    \n",
    "for x in \"banana\":\n",
    "    print(x) "
   ]
  },
  {
   "cell_type": "code",
   "execution_count": null,
   "metadata": {},
   "outputs": [],
   "source": [
    "#With the break statement we can stop the loop before it has looped through all the items:\n",
    "\n",
    "#iteration \n",
    "\n",
    "fruits = [\"apple\", \"banana\", \"cherry\"] \n",
    "for x in fruits:\n",
    "    print(x)\n",
    "    if x == \"banana\":\n",
    "        break\n",
    "        \n",
    "print(\"hello\") "
   ]
  },
  {
   "cell_type": "code",
   "execution_count": null,
   "metadata": {},
   "outputs": [],
   "source": [
    "#With the continue statement we can stop the current iteration of the loop, and continue with the next:\n",
    "\n",
    "fruits = [\"apple\", \"banana\", \"cherry\"] \n",
    "for x in fruits:\n",
    "    if x == \"banana\":\n",
    "        continue\n",
    "    print(x) "
   ]
  },
  {
   "cell_type": "code",
   "execution_count": null,
   "metadata": {},
   "outputs": [],
   "source": [
    "#To loop through a set of code a specified number of times, we can use the range() function,\n",
    "\n",
    "#The range() function returns a sequence of numbers, starting from 0 by default, and increments by 1 (by default), \n",
    "#and ends at a specified number.\n"
   ]
  },
  {
   "cell_type": "code",
   "execution_count": null,
   "metadata": {},
   "outputs": [],
   "source": [
    "# Prints out the numbers 0,1,2,3,4\n",
    "for x in range(5):  \n",
    "    print(x) "
   ]
  },
  {
   "cell_type": "code",
   "execution_count": null,
   "metadata": {},
   "outputs": [],
   "source": [
    "for x in range(6): \n",
    "    print(x) "
   ]
  },
  {
   "cell_type": "code",
   "execution_count": null,
   "metadata": {},
   "outputs": [],
   "source": [
    "# Prints out 3,4,5\n",
    "for x in range(3, 6):\n",
    "    print(x) "
   ]
  },
  {
   "cell_type": "code",
   "execution_count": null,
   "metadata": {},
   "outputs": [],
   "source": [
    "for x in range(2, 6):\n",
    "    print(x)  "
   ]
  },
  {
   "cell_type": "code",
   "execution_count": null,
   "metadata": {},
   "outputs": [],
   "source": [
    "# Prints out 3,5,7\n",
    "#third value is the number by which I want to increment by\n",
    "\n",
    "for x in range(3, 8, 2): \n",
    "    print(x) "
   ]
  },
  {
   "cell_type": "code",
   "execution_count": null,
   "metadata": {},
   "outputs": [],
   "source": [
    "#Increment the sequence with 3 (default is 1):\n",
    "\n",
    "for x in range(2, 30, 3): \n",
    "    print(x) \n"
   ]
  },
  {
   "cell_type": "code",
   "execution_count": null,
   "metadata": {},
   "outputs": [],
   "source": [
    "#The else keyword in a for loop specifies a block of code to be executed when the loop is finished:\n",
    "    \n",
    "for x in range(6):\n",
    "    print(x) \n",
    "else:\n",
    "    print(\"Finally finished!\") "
   ]
  },
  {
   "cell_type": "code",
   "execution_count": null,
   "metadata": {},
   "outputs": [],
   "source": [
    "#Break the loop when x is 3, and see what happens with the else block:\n",
    "    \n",
    "for x in range(6): #0,1,2,3,4,5\n",
    "    if x == 3: \n",
    "        break\n",
    "    print(x)\n",
    "else: \n",
    "    print(\"Finally finished!\") "
   ]
  },
  {
   "cell_type": "code",
   "execution_count": null,
   "metadata": {},
   "outputs": [],
   "source": [
    "#Nested for loops:\n",
    "    \n",
    "adj = [\"red\", \"big\", \"tasty\"]\n",
    "fruits = [\"apple\", \"banana\", \"cherry\"] \n",
    "\n",
    "for x in adj:\n",
    "    for y in fruits:\n",
    "        print(x, y)\n",
    "        \n",
    "# x = tasty\n",
    "# y = cherry"
   ]
  },
  {
   "cell_type": "code",
   "execution_count": null,
   "metadata": {},
   "outputs": [],
   "source": [
    "even = [2,4,6,8]\n",
    "odd = [1,3,5]\n",
    "\n",
    "for x in even:\n",
    "    for y in odd:\n",
    "        print(y, x) \n",
    "        "
   ]
  },
  {
   "cell_type": "code",
   "execution_count": null,
   "metadata": {},
   "outputs": [],
   "source": [
    "#while loops\n",
    "\n",
    "i = 1\n",
    "while i < 6:\n",
    "    print(i)\n",
    "    i += 1\n"
   ]
  },
  {
   "cell_type": "code",
   "execution_count": null,
   "metadata": {},
   "outputs": [],
   "source": [
    "#break statement:\n",
    "\n",
    "i = 1\n",
    "while i < 6:\n",
    "    print(i)\n",
    "    if i == 3:\n",
    "        break\n",
    "    i += 1\n"
   ]
  },
  {
   "cell_type": "code",
   "execution_count": null,
   "metadata": {},
   "outputs": [],
   "source": [
    "#continue statement:\n",
    "    \n",
    "i = 0\n",
    "while i < 6:\n",
    "    i += 1\n",
    "    if i == 3:\n",
    "        continue\n",
    "    print(i)\n"
   ]
  },
  {
   "cell_type": "code",
   "execution_count": null,
   "metadata": {},
   "outputs": [],
   "source": [
    "#else statement:\n",
    "\n",
    "i = 1\n",
    "while i < 6:\n",
    "    print(i)\n",
    "    i += 1\n",
    "else:\n",
    "    print(\"i is no longer less than 6\")\n"
   ]
  },
  {
   "cell_type": "code",
   "execution_count": null,
   "metadata": {},
   "outputs": [],
   "source": [
    "# Prints out 0,1,2,3,4\n",
    "\n",
    "count = 0\n",
    "while count < 8:\n",
    "    print(count)\n",
    "    count += 1  # This is the same as count = count + 1"
   ]
  },
  {
   "cell_type": "code",
   "execution_count": null,
   "metadata": {},
   "outputs": [],
   "source": [
    "#\"break\" and \"continue\" statements\n",
    "#break is used to exit a for loop or a while loop, whereas continue is used to skip the current block,\n",
    "#and return to the \"for\" or \"while\" statement\n",
    "\n",
    "# Prints out 0,1,2,3,4\n",
    "\n",
    "count = 0\n",
    "while True:\n",
    "    print(count)\n",
    "    count += 1\n",
    "    #print(count)\n",
    "    if count >= 5:\n",
    "        break"
   ]
  },
  {
   "cell_type": "code",
   "execution_count": null,
   "metadata": {},
   "outputs": [],
   "source": [
    "# Prints out only odd numbers - 1,3,5,7,9\n",
    "for x in range(10):\n",
    "    # Check if x is even\n",
    "    if x % 2 == 0:\n",
    "        continue\n",
    "    print(x)"
   ]
  },
  {
   "cell_type": "code",
   "execution_count": null,
   "metadata": {},
   "outputs": [],
   "source": [
    "#we can use \"else\" clause for loops\n",
    "\n",
    "# Prints out 0,1,2,3,4 and then it prints \"count value reached 5\"\n",
    "\n",
    "count=0\n",
    "while(count<5):\n",
    "    print(count)\n",
    "    count +=1\n",
    "else:\n",
    "    print(\"count value reached %d\" %(count))"
   ]
  },
  {
   "cell_type": "code",
   "execution_count": null,
   "metadata": {},
   "outputs": [],
   "source": [
    "# Prints out 1,2,3,4\n",
    "for i in range(1, 10):\n",
    "    if(i%5==0):\n",
    "        break\n",
    "    print(i)\n",
    "else:\n",
    "    print(\"this is not printed because for loop is terminated because of break but not due to fail in condition\")"
   ]
  },
  {
   "cell_type": "code",
   "execution_count": null,
   "metadata": {},
   "outputs": [],
   "source": [
    "#Exercise\n",
    "#Loop through and print out all even numbers from the numbers list in the same order they are received.\n",
    "#Don't print any numbers that come after 237 in the sequence.\n",
    "\n",
    "numbers = [\n",
    "    951, 402, 984, 651, 360, 69, 408, 319, 601, 485, 980, 507, 725, 547, 544,\n",
    "    615, 83, 165, 141, 501, 263, 617, 865, 575, 219, 390, 984, 592, 236, 105, 942, 941,\n",
    "    386, 462, 47, 418, 907, 344, 236, 375, 823, 566, 597, 978, 328, 615, 953, 345,\n",
    "    399, 162, 758, 219, 918, 237, 412, 566, 826, 248, 866, 950, 626, 949, 687, 217,\n",
    "    815, 67, 104, 58, 512, 24, 892, 894, 767, 553, 81, 379, 843, 831, 445, 742, 717,\n",
    "    958, 609, 842, 451, 688, 753, 854, 685, 93, 857, 440, 380, 126, 721, 328, 753, 470,\n",
    "    743, 527\n",
    "]\n",
    "\n",
    "# your code goes here"
   ]
  },
  {
   "cell_type": "code",
   "execution_count": null,
   "metadata": {},
   "outputs": [],
   "source": []
  },
  {
   "cell_type": "code",
   "execution_count": null,
   "metadata": {},
   "outputs": [],
   "source": []
  },
  {
   "cell_type": "code",
   "execution_count": null,
   "metadata": {},
   "outputs": [],
   "source": []
  },
  {
   "cell_type": "code",
   "execution_count": null,
   "metadata": {},
   "outputs": [],
   "source": []
  },
  {
   "cell_type": "code",
   "execution_count": null,
   "metadata": {},
   "outputs": [],
   "source": []
  },
  {
   "cell_type": "code",
   "execution_count": null,
   "metadata": {},
   "outputs": [],
   "source": []
  },
  {
   "cell_type": "code",
   "execution_count": null,
   "metadata": {},
   "outputs": [],
   "source": []
  },
  {
   "cell_type": "code",
   "execution_count": 7,
   "metadata": {},
   "outputs": [
    {
     "name": "stdout",
     "output_type": "stream",
     "text": [
      "****\n",
      "*   *\n",
      "*   *\n",
      "*   *\n",
      "*   *\n",
      "*   *\n",
      "****\n"
     ]
    }
   ],
   "source": [
    "for x in range(1,8):\n",
    "    if x == 1:\n",
    "        print('*'*4)\n",
    "    elif x == 2:\n",
    "        print('*'+(' '*3+'*'))\n",
    "    elif x == 3:\n",
    "        print('*'+(' '*3+'*'))\n",
    "    elif x == 4:\n",
    "        print('*'+(' '*3+'*'))\n",
    "    elif x == 5:\n",
    "        print('*'+(' '*3+'*'))\n",
    "    elif x == 6:\n",
    "        print('*'+(' '*3+'*'))\n",
    "    else:\n",
    "        print('*'*4)"
   ]
  },
  {
   "cell_type": "code",
   "execution_count": 8,
   "metadata": {},
   "outputs": [
    {
     "name": "stdout",
     "output_type": "stream",
     "text": [
      "*****\n",
      "*\n",
      "*\n",
      "****\n",
      "*\n",
      "*\n",
      "*****\n"
     ]
    }
   ],
   "source": [
    "for x in range(1,8):\n",
    "    if x == 1:\n",
    "        print('*'*5)\n",
    "    elif x == 2:\n",
    "        print('*'*1)\n",
    "    elif x == 3:\n",
    "        print('*'*1)\n",
    "    elif x == 4:\n",
    "        print('*'*4)\n",
    "    elif x == 5:\n",
    "        print('*'*1)\n",
    "    elif x == 6:\n",
    "        print('*'*1)\n",
    "    else:\n",
    "        print('*'*5)"
   ]
  },
  {
   "cell_type": "code",
   "execution_count": 9,
   "metadata": {},
   "outputs": [
    {
     "name": "stdout",
     "output_type": "stream",
     "text": [
      "*   *\n",
      "*   *\n",
      "*   *\n",
      "*****\n",
      "*   *\n",
      "*   *\n",
      "*   *\n"
     ]
    }
   ],
   "source": [
    "for x in range(1,8):\n",
    "    if x == 1:\n",
    "        print('*'+(' '*3+'*'))\n",
    "    elif x == 2:\n",
    "        print('*'+(' '*3+'*'))\n",
    "    elif x == 3:\n",
    "        print('*'+(' '*3+'*'))\n",
    "    elif x == 4:\n",
    "        print('*'*5)\n",
    "    elif x == 5:\n",
    "        print('*'+(' '*3+'*'))\n",
    "    elif x == 6:\n",
    "        print('*'+(' '*3+'*'))\n",
    "    else:\n",
    "        print('*'+(' '*3+'*'))"
   ]
  },
  {
   "cell_type": "code",
   "execution_count": 12,
   "metadata": {},
   "outputs": [
    {
     "name": "stdout",
     "output_type": "stream",
     "text": [
      " *** \n",
      "*   *\n",
      "*   *\n",
      "*****\n",
      "*   *\n",
      "*   *\n",
      "*   *\n"
     ]
    }
   ],
   "source": [
    "for x in range(1,8):\n",
    "    if x == 1:\n",
    "        print(' '+('*'*3+' '))\n",
    "    elif x == 2:\n",
    "        print('*'+(' '*3+'*'))\n",
    "    elif x == 3:\n",
    "        print('*'+(' '*3+'*'))\n",
    "    elif x == 4:\n",
    "        print('*'*5)\n",
    "    elif x == 5:\n",
    "        print('*'+(' '*3+'*'))\n",
    "    elif x == 6:\n",
    "        print('*'+(' '*3+'*'))\n",
    "    else:\n",
    "        print('*'+(' '*3+'*'))"
   ]
  },
  {
   "cell_type": "code",
   "execution_count": 13,
   "metadata": {},
   "outputs": [
    {
     "name": "stdout",
     "output_type": "stream",
     "text": [
      "*\n",
      "*\n",
      "*\n",
      "*\n",
      "*\n",
      "*\n",
      "*****\n"
     ]
    }
   ],
   "source": [
    "for x in range(1,8):\n",
    "    if x == 1:\n",
    "        print('*')\n",
    "    elif x == 2:\n",
    "        print('*')\n",
    "    elif x == 3:\n",
    "        print('*')\n",
    "    elif x == 4:\n",
    "        print('*')\n",
    "    elif x == 5:\n",
    "        print('*')\n",
    "    elif x == 6:\n",
    "        print('*')\n",
    "    else:\n",
    "        print('*'*5)"
   ]
  },
  {
   "cell_type": "code",
   "execution_count": 19,
   "metadata": {},
   "outputs": [
    {
     "name": "stdout",
     "output_type": "stream",
     "text": [
      "*       * \n",
      "*       * \n",
      "* *   * * \n",
      "*   *   * \n",
      "*       * \n",
      "*       * \n",
      "*       * \n"
     ]
    }
   ],
   "source": [
    "for x in range(1,8):\n",
    "    if x == 1:\n",
    "        print('* '+('  '*3+'* '))\n",
    "    elif x == 2:\n",
    "        print('* '+('  '*3+'* '))\n",
    "    elif x == 3:\n",
    "        print('* '*2+('  '+'* '*2))\n",
    "    elif x == 4:\n",
    "        print('* '+ '  ' + '* '+ '  ' + '* ') \n",
    "    elif x == 5:\n",
    "        print('* '+('  '*3+'* '))\n",
    "    elif x == 6:\n",
    "        print('* '+('  '*3+'* '))\n",
    "    else:\n",
    "        print('* '+('  '*3+'* '))"
   ]
  },
  {
   "cell_type": "code",
   "execution_count": 21,
   "metadata": {},
   "outputs": [
    {
     "name": "stdout",
     "output_type": "stream",
     "text": [
      " *** \n",
      "*   *\n",
      "*\n",
      "* ***\n",
      "*   *\n",
      "*   *\n",
      " *** \n"
     ]
    }
   ],
   "source": [
    "for x in range(1,8):\n",
    "    if x == 1:\n",
    "        print(' '+('*'*3+' '))\n",
    "    elif x == 2:\n",
    "        print('*'+(' '*3+'*'))\n",
    "    elif x == 3:\n",
    "        print('*')\n",
    "    elif x == 4:\n",
    "        print('*' + ' ' + '*'*3)\n",
    "    elif x == 5:\n",
    "        print('*'+(' '*3+'*'))\n",
    "    elif x == 6:\n",
    "        print('*'+(' '*3+'*'))\n",
    "    else:\n",
    "        print(' '+('*'*3+' '))"
   ]
  },
  {
   "cell_type": "code",
   "execution_count": 22,
   "metadata": {},
   "outputs": [
    {
     "name": "stdout",
     "output_type": "stream",
     "text": [
      "****\n",
      "*   *\n",
      "*   *\n",
      "****\n",
      "*\n",
      "*\n",
      "*\n"
     ]
    }
   ],
   "source": [
    "for x in range(1,8):\n",
    "    if x == 1:\n",
    "        print('*'*4)\n",
    "    elif x == 2:\n",
    "        print('*'+ (' '*3)+'*')\n",
    "    elif x == 3:\n",
    "        print('*'+ (' '*3)+'*')\n",
    "    elif x == 4:\n",
    "        print('*'*4)\n",
    "    elif x == 5:\n",
    "        print('*')\n",
    "    elif x == 6:\n",
    "        print('*')\n",
    "    else:\n",
    "        print('*')"
   ]
  },
  {
   "cell_type": "code",
   "execution_count": 24,
   "metadata": {},
   "outputs": [
    {
     "name": "stdout",
     "output_type": "stream",
     "text": [
      "****\n",
      "*   *\n",
      "*   *\n",
      "****\n",
      "* *\n",
      "*  *\n",
      "*   *\n"
     ]
    }
   ],
   "source": [
    "for x in range(1,8):\n",
    "    if x == 1:\n",
    "        print('*'*4)\n",
    "    elif x == 2:\n",
    "        print('*'+(' '*3+'*'))\n",
    "    elif x == 3:\n",
    "        print('*'+(' '*3+'*'))\n",
    "    elif x == 4:\n",
    "        print('*'*4)\n",
    "    elif x == 5:\n",
    "        print('*'+' '+'*')\n",
    "    elif x == 6:\n",
    "        print('*'+(' '*2+'*'))\n",
    "    else:\n",
    "        print('*'+(' '*3+'*'))"
   ]
  },
  {
   "cell_type": "code",
   "execution_count": 26,
   "metadata": {},
   "outputs": [
    {
     "name": "stdout",
     "output_type": "stream",
     "text": [
      " *** \n",
      "*   *\n",
      "*   *\n",
      "*   *\n",
      "*   *\n",
      "*   *\n",
      " *** \n"
     ]
    }
   ],
   "source": [
    "for x in range(1,8):\n",
    "    if x == 1:\n",
    "        print(' '+('*'*3+' '))\n",
    "    elif x == 2:\n",
    "        print('*'+(' '*3+'*'))\n",
    "    elif x == 3:\n",
    "        print('*'+(' '*3+'*'))\n",
    "    elif x == 4:\n",
    "        print('*'+(' '*3+'*'))\n",
    "    elif x == 5:\n",
    "        print('*'+(' '*3+'*'))\n",
    "    elif x == 6:\n",
    "        print('*'+(' '*3+'*'))\n",
    "    else:\n",
    "        print(' '+('*'*3+' '))"
   ]
  },
  {
   "cell_type": "code",
   "execution_count": 27,
   "metadata": {},
   "outputs": [
    {
     "name": "stdout",
     "output_type": "stream",
     "text": [
      "*****\n",
      "  *  \n",
      "  *  \n",
      "  *  \n",
      "  *  \n",
      "  *  \n",
      "  *  \n"
     ]
    }
   ],
   "source": [
    "for x in range(1,8):\n",
    "    if x == 1:\n",
    "        print('*'*5)\n",
    "    elif x == 2:\n",
    "        print((' '*2)+'*'+(' '*2))\n",
    "    elif x == 3:\n",
    "        print((' '*2)+'*'+(' '*2))\n",
    "    elif x == 4:\n",
    "        print((' '*2)+'*'+(' '*2))\n",
    "    elif x == 5:\n",
    "        print((' '*2)+'*'+(' '*2))\n",
    "    elif x == 6:\n",
    "        print((' '*2)+'*'+(' '*2))\n",
    "    else:\n",
    "        print((' '*2)+'*'+(' '*2))"
   ]
  },
  {
   "cell_type": "code",
   "execution_count": 28,
   "metadata": {},
   "outputs": [
    {
     "name": "stdout",
     "output_type": "stream",
     "text": [
      " ****\n",
      "*\n",
      "*\n",
      " ***\n",
      "    *\n",
      "    *\n",
      "****\n"
     ]
    }
   ],
   "source": [
    "for x in range(1,8):\n",
    "    if x == 1:\n",
    "        print(' '+'*'*4)\n",
    "    elif x == 2:\n",
    "        print('*')\n",
    "    elif x == 3:\n",
    "        print('*')\n",
    "    elif x == 4:\n",
    "        print(' '+'*'*3)\n",
    "    elif x == 5:\n",
    "        print((' '*4)+'*')\n",
    "    elif x == 6:\n",
    "        print((' '*4)+'*')\n",
    "    else:\n",
    "        print('*'*4)"
   ]
  },
  {
   "cell_type": "code",
   "execution_count": 31,
   "metadata": {},
   "outputs": [
    {
     "name": "stdout",
     "output_type": "stream",
     "text": [
      "*   *\n",
      "*   *\n",
      "*   *   \n",
      "  *  \n",
      "*   *   \n",
      "*   *\n",
      "*   *\n"
     ]
    }
   ],
   "source": [
    "for x in range(1,8):\n",
    "    if x == 1:\n",
    "        print('*'+(' '*3+'*'))\n",
    "    elif x == 2:\n",
    "        print('*'+(' '*3+'*'))\n",
    "    elif x == 3:\n",
    "        print('* '+ '  ' + '* '+ '  ')\n",
    "    elif x == 4:\n",
    "        print((' '*2)+'*'+(' '*2))\n",
    "    elif x == 5:\n",
    "        print('* '+ '  ' + '* '+ '  ') \n",
    "    elif x == 6:\n",
    "        print('*'+(' '*3+'*'))\n",
    "    else:\n",
    "        print('*'+(' '*3+'*'))"
   ]
  },
  {
   "cell_type": "code",
   "execution_count": 32,
   "metadata": {},
   "outputs": [
    {
     "name": "stdout",
     "output_type": "stream",
     "text": [
      "*   *\n",
      "*   *\n",
      "*   *\n",
      "*   *\n",
      "*   *\n",
      "*   *\n",
      " *** \n"
     ]
    }
   ],
   "source": [
    "for x in range(1,8):\n",
    "    if x == 1:\n",
    "        print('*'+(' '*3+'*'))\n",
    "    elif x == 2:\n",
    "        print('*'+(' '*3+'*'))\n",
    "    elif x == 3:\n",
    "        print('*'+(' '*3+'*'))\n",
    "    elif x == 4:\n",
    "        print('*'+(' '*3+'*'))\n",
    "    elif x == 5:\n",
    "        print('*'+(' '*3+'*'))\n",
    "    elif x == 6:\n",
    "        print('*'+(' '*3+'*'))\n",
    "    else:\n",
    "        print(' '+('*'*3+' '))"
   ]
  },
  {
   "cell_type": "code",
   "execution_count": null,
   "metadata": {},
   "outputs": [],
   "source": []
  }
 ],
 "metadata": {
  "kernelspec": {
   "display_name": "Python 3",
   "language": "python",
   "name": "python3"
  },
  "language_info": {
   "codemirror_mode": {
    "name": "ipython",
    "version": 3
   },
   "file_extension": ".py",
   "mimetype": "text/x-python",
   "name": "python",
   "nbconvert_exporter": "python",
   "pygments_lexer": "ipython3",
   "version": "3.7.6"
  },
  "nav_menu": {
   "height": "264px",
   "width": "369px"
  },
  "toc": {
   "navigate_menu": true,
   "number_sections": true,
   "sideBar": true,
   "threshold": 6,
   "toc_cell": false,
   "toc_section_display": "block",
   "toc_window_display": false
  }
 },
 "nbformat": 4,
 "nbformat_minor": 1
}
