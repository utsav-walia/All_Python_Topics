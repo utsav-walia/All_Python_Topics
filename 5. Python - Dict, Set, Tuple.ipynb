{
 "cells": [
  {
   "cell_type": "code",
   "execution_count": 1,
   "metadata": {},
   "outputs": [
    {
     "name": "stdout",
     "output_type": "stream",
     "text": [
      "{'Name': 'john', 'Age': 20, 'City': 'Mumbai'}\n"
     ]
    }
   ],
   "source": [
    "#Creating a Dictionary.\n",
    "mydict = {\"Name\" : \"john\",\n",
    "          \"Age\" : 20,\n",
    "          \"City\" : \"Mumbai\"}\n",
    "print(mydict)"
   ]
  },
  {
   "cell_type": "code",
   "execution_count": 2,
   "metadata": {},
   "outputs": [
    {
     "name": "stdout",
     "output_type": "stream",
     "text": [
      "Apple\n"
     ]
    }
   ],
   "source": [
    "#Accessing Elements from Dictionary.\n",
    "thisDict = {1 : 'Apple',\n",
    "            2 : 'Orange',\n",
    "            3 : 'Banana',\n",
    "            4 : 'Grapes',\n",
    "            5 : 'Watermelon'}\n",
    "\n",
    "print(thisDict[1])"
   ]
  },
  {
   "cell_type": "code",
   "execution_count": 3,
   "metadata": {},
   "outputs": [
    {
     "name": "stdout",
     "output_type": "stream",
     "text": [
      "{'Name': 'Zara', 'Age': 8, 'Class': 'First', 'School': 'DPS School'}\n"
     ]
    }
   ],
   "source": [
    "#Updating Dictionary.\n",
    "dictA = {'Name': 'Zara', 'Age': 7, 'Class': 'First'}\n",
    "dictA['Age'] = 8; # update existing entry\n",
    "dictA['School'] = \"DPS School\"; # adding new entry\n",
    "\n",
    "print(dictA)"
   ]
  },
  {
   "cell_type": "code",
   "execution_count": 4,
   "metadata": {},
   "outputs": [
    {
     "name": "stdout",
     "output_type": "stream",
     "text": [
      "{'Boston': 'Red Sox', 'Minnesota': 'Twins', 'Milwaukee': 'Brewers', 'Seattle': 'Mariners'}\n"
     ]
    }
   ],
   "source": [
    "#Delete Dictionary Elements.\n",
    "MLB_team = {'Colorado' : 'Rockies',\n",
    "            'Boston'   : 'Red Sox',\n",
    "            'Minnesota': 'Twins',\n",
    "            'Milwaukee': 'Brewers',\n",
    "            'Seattle'  : 'Mariners'}\n",
    "\n",
    "del MLB_team['Colorado']; #Remove entry with the name 'Colorado'\n",
    "print(MLB_team)\n",
    "\n",
    "del MLB_team; # Delete the entire dictionary"
   ]
  },
  {
   "cell_type": "code",
   "execution_count": 5,
   "metadata": {},
   "outputs": [
    {
     "name": "stdout",
     "output_type": "stream",
     "text": [
      "{'Name': 'George', 'Age': '28', 'Profession': 'Doctor'}\n"
     ]
    }
   ],
   "source": [
    "dictB = {'Name' : 'Christina',\n",
    "         'Age' : '28',\n",
    "         'Profession' : 'Doctor',\n",
    "         'Name' : 'George'}\n",
    "\n",
    "print(dictB)"
   ]
  },
  {
   "cell_type": "code",
   "execution_count": 6,
   "metadata": {},
   "outputs": [
    {
     "ename": "TypeError",
     "evalue": "unhashable type: 'list'",
     "output_type": "error",
     "traceback": [
      "\u001b[1;31m---------------------------------------------------------------------------\u001b[0m",
      "\u001b[1;31mTypeError\u001b[0m                                 Traceback (most recent call last)",
      "\u001b[1;32m<ipython-input-6-f9fa3b6c6cf0>\u001b[0m in \u001b[0;36m<module>\u001b[1;34m\u001b[0m\n\u001b[0;32m      1\u001b[0m dictC = {['Name']: 'Charles',\n\u001b[1;32m----> 2\u001b[1;33m          'Age': 17}\n\u001b[0m\u001b[0;32m      3\u001b[0m \u001b[0mprint\u001b[0m\u001b[1;33m(\u001b[0m\u001b[0mdictC\u001b[0m\u001b[1;33m)\u001b[0m\u001b[1;33m\u001b[0m\u001b[1;33m\u001b[0m\u001b[0m\n",
      "\u001b[1;31mTypeError\u001b[0m: unhashable type: 'list'"
     ]
    }
   ],
   "source": [
    "dictC = {['Name']: 'Charles',\n",
    "         'Age': 17}\n",
    "print(dictC)"
   ]
  },
  {
   "cell_type": "code",
   "execution_count": 7,
   "metadata": {},
   "outputs": [
    {
     "name": "stdout",
     "output_type": "stream",
     "text": [
      "{'fname': 'Jake', 'lname': 'Peralta', 'age': 30, 'spouse': 'Amy', 'children': ['Max', 'Isabella', 'Alex'], 'pets': {'dog': 'Fido', 'cat': 'Sox'}}\n"
     ]
    }
   ],
   "source": [
    "#Building a Dictionary Incrementally.\n",
    "person = {}\n",
    "person['fname'] = 'Jake'\n",
    "person['lname'] = 'Peralta'\n",
    "person['age'] = 30\n",
    "person['spouse'] = 'Amy'\n",
    "person['children'] = ['Max', 'Isabella', 'Alex']\n",
    "person['pets'] = {'dog': 'Fido', 'cat': 'Sox'}\n",
    "\n",
    "print(person)"
   ]
  },
  {
   "cell_type": "code",
   "execution_count": 11,
   "metadata": {},
   "outputs": [
    {
     "name": "stdout",
     "output_type": "stream",
     "text": [
      "{'Colorado': 'Rockies', 'Boston': 'Red Sox', 'Minnesota': 'Twins', 'Milwaukee': 'Brewers', 'Seattle': 'Mariners'}\n",
      "True\n",
      "False\n",
      "True\n"
     ]
    }
   ],
   "source": [
    "MLB_team = {'Colorado' : 'Rockies',\n",
    "            'Boston'   : 'Red Sox',\n",
    "            'Minnesota': 'Twins',\n",
    "            'Milwaukee': 'Brewers',\n",
    "            'Seattle'  : 'Mariners'}\n",
    "\n",
    "print(MLB_team)\n",
    "print('Milwaukee' in MLB_team)\n",
    "print('Toronto' in MLB_team)\n",
    "print('Toronto' not in MLB_team)"
   ]
  },
  {
   "cell_type": "code",
   "execution_count": 12,
   "metadata": {},
   "outputs": [
    {
     "data": {
      "text/plain": [
       "5"
      ]
     },
     "execution_count": 12,
     "metadata": {},
     "output_type": "execute_result"
    }
   ],
   "source": [
    "len(MLB_team)"
   ]
  },
  {
   "cell_type": "code",
   "execution_count": 13,
   "metadata": {},
   "outputs": [
    {
     "name": "stdout",
     "output_type": "stream",
     "text": [
      "dict_items([('a', 10), ('b', 20), ('c', 30)])\n"
     ]
    }
   ],
   "source": [
    "d = {'a': 10, 'b': 20, 'c': 30}\n",
    "print(d.items())"
   ]
  },
  {
   "cell_type": "code",
   "execution_count": 16,
   "metadata": {},
   "outputs": [
    {
     "name": "stdout",
     "output_type": "stream",
     "text": [
      "dict_keys(['a', 'b', 'c'])\n"
     ]
    }
   ],
   "source": [
    "d = {'a': 10, 'b': 20, 'c': 30}\n",
    "print(d.keys())"
   ]
  },
  {
   "cell_type": "code",
   "execution_count": 17,
   "metadata": {},
   "outputs": [
    {
     "name": "stdout",
     "output_type": "stream",
     "text": [
      "(1, 'Hello', 3.4)\n"
     ]
    }
   ],
   "source": [
    "#Creating a Tuple.\n",
    "tupleA = (1, \"Hello\", 3.4)\n",
    "print(tupleA)"
   ]
  },
  {
   "cell_type": "code",
   "execution_count": 18,
   "metadata": {},
   "outputs": [
    {
     "name": "stdout",
     "output_type": "stream",
     "text": [
      "('Apple', 4.6, 'Dog')\n",
      "Apple\n",
      "4.6\n",
      "Dog\n"
     ]
    }
   ],
   "source": [
    "tupleB = \"Apple\", 4.6, \"Dog\"\n",
    "print(tupleB)\n",
    "\n",
    "#Tuple unpacking\n",
    "a, b, c = tupleB\n",
    "\n",
    "print(a)      \n",
    "print(b)    \n",
    "print(c)    "
   ]
  },
  {
   "cell_type": "code",
   "execution_count": 19,
   "metadata": {},
   "outputs": [
    {
     "name": "stdout",
     "output_type": "stream",
     "text": [
      "<class 'str'>\n",
      "<class 'tuple'>\n",
      "<class 'tuple'>\n"
     ]
    }
   ],
   "source": [
    "tupleC = (\"hello\")\n",
    "print(type(tupleC))  #To check the class type\n",
    "\n",
    "# Creating a tuple having one element\n",
    "tupleC = (\"hello\",)\n",
    "print(type(tupleC))  \n",
    "\n",
    "# Parentheses is optional\n",
    "tupleC = \"hello\",\n",
    "print(type(tupleC))  "
   ]
  },
  {
   "cell_type": "code",
   "execution_count": 22,
   "metadata": {},
   "outputs": [
    {
     "name": "stdout",
     "output_type": "stream",
     "text": [
      "maths\n",
      "(3, 4, 5)\n"
     ]
    }
   ],
   "source": [
    "#Accessing values\n",
    "tupleD = ('maths', 'chemistry', 1997, 2000);\n",
    "tupleE = (1, 2, 3, 4, 5, 6, 7 );\n",
    "print(tupleD[0])\n",
    "print(tupleE[2:5])"
   ]
  },
  {
   "cell_type": "code",
   "execution_count": 24,
   "metadata": {},
   "outputs": [
    {
     "name": "stdout",
     "output_type": "stream",
     "text": [
      "(12, 13, 'abc', 'xyz')\n"
     ]
    }
   ],
   "source": [
    "#Updating Tuples\n",
    "tupleF = (12, 13);\n",
    "tupleG = ('abc', 'xyz');\n",
    "\n",
    "# Following action is not valid for tuples\n",
    "# tup1[0] = 100;\n",
    "\n",
    "# So let's create a new tuple as follows\n",
    "tupleH = tupleF + tupleG;\n",
    "print(tupleH)"
   ]
  },
  {
   "cell_type": "code",
   "execution_count": 25,
   "metadata": {},
   "outputs": [
    {
     "ename": "NameError",
     "evalue": "name 'tupleI' is not defined",
     "output_type": "error",
     "traceback": [
      "\u001b[1;31m---------------------------------------------------------------------------\u001b[0m",
      "\u001b[1;31mNameError\u001b[0m                                 Traceback (most recent call last)",
      "\u001b[1;32m<ipython-input-25-80c875e425f9>\u001b[0m in \u001b[0;36m<module>\u001b[1;34m\u001b[0m\n\u001b[0;32m      3\u001b[0m \u001b[1;33m\u001b[0m\u001b[0m\n\u001b[0;32m      4\u001b[0m \u001b[1;32mdel\u001b[0m \u001b[0mtupleI\u001b[0m\u001b[1;33m\u001b[0m\u001b[1;33m\u001b[0m\u001b[0m\n\u001b[1;32m----> 5\u001b[1;33m \u001b[0mprint\u001b[0m\u001b[1;33m(\u001b[0m\u001b[0mtupleI\u001b[0m\u001b[1;33m)\u001b[0m\u001b[1;33m\u001b[0m\u001b[1;33m\u001b[0m\u001b[0m\n\u001b[0m",
      "\u001b[1;31mNameError\u001b[0m: name 'tupleI' is not defined"
     ]
    }
   ],
   "source": [
    "# Deleting tuples\n",
    "tupleI = ('p', 'r', 'o', 'g', 'r', 'a', 'm', 'i', 'z')\n",
    "\n",
    "del tupleI\n",
    "print(tupleI)"
   ]
  },
  {
   "cell_type": "code",
   "execution_count": 26,
   "metadata": {},
   "outputs": [],
   "source": [
    "tupleJ = ('test', 'Test', 'TEST')"
   ]
  },
  {
   "cell_type": "code",
   "execution_count": 27,
   "metadata": {},
   "outputs": [
    {
     "name": "stdout",
     "output_type": "stream",
     "text": [
      "{1, 2, 3}\n",
      "{1.0, 'Hello', (1, 2, 3)}\n"
     ]
    }
   ],
   "source": [
    "set1 = {1, 2, 3}\n",
    "print(set1)\n",
    "\n",
    "# set of mixed datatypes\n",
    "set2 = {1.0, \"Hello\", (1, 2, 3)}\n",
    "print(set2)"
   ]
  },
  {
   "cell_type": "code",
   "execution_count": 28,
   "metadata": {},
   "outputs": [
    {
     "name": "stdout",
     "output_type": "stream",
     "text": [
      "{1, 3}\n",
      "{1, 2, 3}\n",
      "{1, 2, 3, 4}\n",
      "{1, 2, 3, 4, 5, 6, 8}\n"
     ]
    }
   ],
   "source": [
    "setA = {1, 3}\n",
    "print(setA)\n",
    "\n",
    "setA.add(2)\n",
    "print(setA)\n",
    "\n",
    "# add multiple elements\n",
    "setA.update([2, 3, 4])\n",
    "print(setA)\n",
    "\n",
    "# add list and set\n",
    "setA.update([4, 5], {1, 6, 8})\n",
    "print(setA)"
   ]
  },
  {
   "cell_type": "code",
   "execution_count": 29,
   "metadata": {},
   "outputs": [
    {
     "name": "stdout",
     "output_type": "stream",
     "text": [
      "{1, 3, 4, 5, 6, 8, 10}\n",
      "{1, 3, 4, 5, 6, 8, 10}\n",
      "{1, 3, 4, 5, 6, 8, 10}\n",
      "{4, 5}\n",
      "{4, 5}\n",
      "{4, 5}\n",
      "{1, 10, 3}\n",
      "{1, 10, 3}\n",
      "{8, 6}\n",
      "{1, 3, 6, 8, 10}\n",
      "{1, 3, 6, 8, 10}\n",
      "{1, 3, 6, 8, 10}\n"
     ]
    }
   ],
   "source": [
    "#Set Operations\n",
    "\n",
    "#initialize A and B\n",
    "A = {1, 3, 4, 5, 10}\n",
    "B = {4, 5, 6, 8}\n",
    "\n",
    "print(A | B) #Gives union of A and B\n",
    "print(A.union(B)) #Gives union of A and B\n",
    "print(B.union(A)) #Gives union of A and B\n",
    "\n",
    "print(A & B) #Gives intersection of A and B\n",
    "print(A.intersection(B)) #Gives intersection of A and B\n",
    "print(B.intersection(A)) #Gives intersection of A and B\n",
    "\n",
    "print(A - B) #Gives difference of A and B\n",
    "print(A.difference(B)) #A-B\n",
    "print(B.difference(A)) #B-A\n",
    "\n",
    "print(A ^ B) #Symmetric difference of A and B\n",
    "print(A.symmetric_difference(B)) #Symmetric difference of A and B\n",
    "print(B.symmetric_difference(A)) #Symmetric difference of A and B"
   ]
  },
  {
   "cell_type": "code",
   "execution_count": null,
   "metadata": {},
   "outputs": [],
   "source": []
  }
 ],
 "metadata": {
  "kernelspec": {
   "display_name": "Python 3",
   "language": "python",
   "name": "python3"
  },
  "language_info": {
   "codemirror_mode": {
    "name": "ipython",
    "version": 3
   },
   "file_extension": ".py",
   "mimetype": "text/x-python",
   "name": "python",
   "nbconvert_exporter": "python",
   "pygments_lexer": "ipython3",
   "version": "3.8.5"
  }
 },
 "nbformat": 4,
 "nbformat_minor": 4
}
