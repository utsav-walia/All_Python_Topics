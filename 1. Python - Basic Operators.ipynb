{
 "cells": [
  {
   "cell_type": "code",
   "execution_count": null,
   "metadata": {
    "collapsed": true
   },
   "outputs": [],
   "source": [
    "# Intro to Python Programming\n",
    "\n",
    "#Basic Operators"
   ]
  },
  {
   "cell_type": "markdown",
   "metadata": {},
   "source": [
    "# Setup"
   ]
  },
  {
   "cell_type": "markdown",
   "metadata": {},
   "source": [
    "First, let's make sure this notebook works well in both python 2 and 3, import a few common modules, ensure MatplotLib plots figures inline and prepare a function to save the figures:"
   ]
  },
  {
   "cell_type": "code",
   "execution_count": null,
   "metadata": {
    "collapsed": true
   },
   "outputs": [],
   "source": [
    "# To support both python 2 and python 3\n",
    "from __future__ import division, print_function, unicode_literals\n",
    "\n",
    "# Common imports\n",
    "import numpy as np\n",
    "import os\n",
    "\n",
    "# to make this notebook's output stable across runs\n",
    "def reset_graph(seed=42):\n",
    "    tf.reset_default_graph()\n",
    "    tf.set_random_seed(seed)\n",
    "    np.random.seed(seed)"
   ]
  },
  {
   "cell_type": "markdown",
   "metadata": {},
   "source": [
    "# Basics of Python"
   ]
  },
  {
   "cell_type": "code",
   "execution_count": 1,
   "metadata": {},
   "outputs": [
    {
     "name": "stdout",
     "output_type": "stream",
     "text": [
      "2.5\n",
      "12.5\n"
     ]
    },
    {
     "data": {
      "text/plain": [
       "2.5"
      ]
     },
     "execution_count": 1,
     "metadata": {},
     "output_type": "execute_result"
    }
   ],
   "source": [
    "#arithmetic operators\n",
    "\n",
    "number = 1 + 2 * 3 / 4.0\n",
    "print(number)\n",
    "print(number + 10)\n",
    "number"
   ]
  },
  {
   "cell_type": "code",
   "execution_count": 4,
   "metadata": {},
   "outputs": [
    {
     "name": "stdout",
     "output_type": "stream",
     "text": [
      "2\n",
      "10.5\n"
     ]
    }
   ],
   "source": [
    "#modulo operator - returns the integer remainder of the division\n",
    "\n",
    "#dividend % divisor = remainder\n",
    "\n",
    "remainder = 11 % 3\n",
    "print(remainder)\n",
    "\n",
    "rem2 = 35 / 10 % 5 * 3\n",
    "print(rem2)"
   ]
  },
  {
   "cell_type": "code",
   "execution_count": 13,
   "metadata": {},
   "outputs": [
    {
     "name": "stdout",
     "output_type": "stream",
     "text": [
      "1.5874010519681994\n",
      "8\n",
      "81\n"
     ]
    }
   ],
   "source": [
    "#Using two multiplication symbols makes a power relationship.\n",
    "\n",
    "squared = 4 ** (1/3)\n",
    "cubed = 2 ** 3\n",
    "\n",
    "print(squared)\n",
    "print(cubed)\n",
    "\n",
    "sq2 = (7+2)**2\n",
    "print(sq2)"
   ]
  },
  {
   "cell_type": "code",
   "execution_count": null,
   "metadata": {
    "collapsed": true
   },
   "outputs": [],
   "source": []
  },
  {
   "cell_type": "code",
   "execution_count": null,
   "metadata": {
    "collapsed": true
   },
   "outputs": [],
   "source": [
    "#use operators with strings\n",
    "\n",
    "helloworld = \"hello\" + \" \" + \"world\"\n",
    "print(helloworld)"
   ]
  },
  {
   "cell_type": "code",
   "execution_count": 20,
   "metadata": {},
   "outputs": [
    {
     "name": "stdout",
     "output_type": "stream",
     "text": [
      "hello how are you Vivek hello how are you Vivek hello how are you Vivek hello how are you Vivek hello how are you Vivek hello how are you Vivek hello how are you Vivek hello how are you Vivek hello how are you Vivek hello how are you Vivek \n"
     ]
    },
    {
     "data": {
      "text/plain": [
       "'hello how are you Vivek hello how are you Vivek hello how are you Vivek hello how are you Vivek hello how are you Vivek hello how are you Vivek hello how are you Vivek hello how are you Vivek hello how are you Vivek hello how are you Vivek '"
      ]
     },
     "execution_count": 20,
     "metadata": {},
     "output_type": "execute_result"
    }
   ],
   "source": [
    "#multiplying strings to form a string with a repeating sequence\n",
    "\n",
    "lotsofhellos = (\"hello how are you \" + \"Vivek \") * 10\n",
    "print(lotsofhellos)\n",
    "lotsofhellos"
   ]
  },
  {
   "cell_type": "code",
   "execution_count": 24,
   "metadata": {},
   "outputs": [
    {
     "name": "stdout",
     "output_type": "stream",
     "text": [
      "[1, 3, 5, 7, 2, 4, 6, 8]\n",
      "[1, 2, 3, 1, 2, 3, 1, 2, 3, 1, 2, 3, 1, 2, 3]\n"
     ]
    }
   ],
   "source": [
    "#using operators with lists\n",
    "\n",
    "even_numbers = [2,4,6,8]\n",
    "odd_numbers = [1,3,5,7]\n",
    "all_numbers = odd_numbers + even_numbers\n",
    "print(all_numbers)\n",
    "\n",
    "print([1,2,3] * 5)"
   ]
  },
  {
   "cell_type": "code",
   "execution_count": 11,
   "metadata": {},
   "outputs": [
    {
     "name": "stdout",
     "output_type": "stream",
     "text": [
      "x_list contains 10 objects\n",
      "y_list contains 10 objects\n",
      "big_list contains 20 objects\n",
      "Almost there...\n",
      "Great!\n"
     ]
    },
    {
     "data": {
      "text/plain": [
       "['someString',\n",
       " 'someString',\n",
       " 'someString',\n",
       " 'someString',\n",
       " 'someString',\n",
       " 'someString',\n",
       " 'someString',\n",
       " 'someString',\n",
       " 'someString',\n",
       " 'someString']"
      ]
     },
     "execution_count": 11,
     "metadata": {},
     "output_type": "execute_result"
    }
   ],
   "source": [
    "#Exercise\n",
    "#The target of this exercise is to create two lists called x_list and y_list,\n",
    "#which contain 10 instances of the variables x and y, respectively.\n",
    "#You are also required to create a list called big_list, which contains the variables x and y,\n",
    "#10 times each, by concatenating the two lists you have created.\n",
    "\n",
    "#x = object()\n",
    "#y = object()\n",
    "x = 5.89\n",
    "y = \"someString\"\n",
    "\n",
    "# TODO: change this code\n",
    "x_list = [x] *10\n",
    "y_list = [y]*10\n",
    "big_list = x_list + y_list\n",
    "\n",
    "print(\"x_list contains %d objects\" % len(x_list))\n",
    "print(\"y_list contains %d objects\" % len(y_list))\n",
    "print(\"big_list contains %d objects\" % len(big_list))\n",
    "\n",
    "# testing code\n",
    "if x_list.count(x) == 10 and y_list.count(y) == 10:\n",
    "    print(\"Almost there...\")\n",
    "if big_list.count(x) == 10 and big_list.count(y) == 10:\n",
    "    print(\"Great!\")\n",
    "    \n",
    "x_list\n",
    "y_list"
   ]
  },
  {
   "cell_type": "code",
   "execution_count": null,
   "metadata": {
    "collapsed": true
   },
   "outputs": [],
   "source": []
  }
 ],
 "metadata": {
  "kernelspec": {
   "display_name": "Python 3",
   "language": "python",
   "name": "python3"
  },
  "language_info": {
   "codemirror_mode": {
    "name": "ipython",
    "version": 3
   },
   "file_extension": ".py",
   "mimetype": "text/x-python",
   "name": "python",
   "nbconvert_exporter": "python",
   "pygments_lexer": "ipython3",
   "version": "3.5.2"
  },
  "nav_menu": {
   "height": "264px",
   "width": "369px"
  },
  "toc": {
   "navigate_menu": true,
   "number_sections": true,
   "sideBar": true,
   "threshold": 6,
   "toc_cell": false,
   "toc_section_display": "block",
   "toc_window_display": false
  }
 },
 "nbformat": 4,
 "nbformat_minor": 1
}
